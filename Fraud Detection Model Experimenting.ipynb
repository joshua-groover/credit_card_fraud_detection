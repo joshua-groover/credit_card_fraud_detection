{
 "cells": [
  {
   "cell_type": "code",
   "execution_count": null,
   "metadata": {},
   "outputs": [],
   "source": [
    "!pip install catboost\n",
    "!pip install xgboost"
   ]
  },
  {
   "cell_type": "code",
   "execution_count": 21,
   "metadata": {},
   "outputs": [],
   "source": [
    "import pandas as pd\n",
    "import numpy as np\n",
    "import os\n",
    "import xgboost as xgb\n",
    "from catboost import CatBoostClassifier\n",
    "from sklearn.model_selection import train_test_split\n",
    "from sklearn.linear_model import LogisticRegression\n",
    "from sklearn.ensemble import RandomForestClassifier\n",
    "from sklearn.metrics import confusion_matrix, cohen_kappa_score, f1_score, recall_score\n",
    "import warnings\n",
    "warnings.filterwarnings(\"ignore\")"
   ]
  },
  {
   "cell_type": "markdown",
   "metadata": {},
   "source": [
    "### Read in the data"
   ]
  },
  {
   "cell_type": "code",
   "execution_count": 2,
   "metadata": {},
   "outputs": [
    {
     "name": "stdout",
     "output_type": "stream",
     "text": [
      "Not Fraud    284315\n",
      "Fraud           492\n",
      "Name: Class, dtype: int64\n"
     ]
    }
   ],
   "source": [
    "cc = pd.read_csv(r'/Users/joshuacurie/my_files/Machine Learning Comps/credit_card_fraud/creditcard.csv')\n",
    "class_names = {0:'Not Fraud', 1:'Fraud'}\n",
    "print(cc.Class.value_counts().rename(index = class_names))"
   ]
  },
  {
   "cell_type": "code",
   "execution_count": 3,
   "metadata": {},
   "outputs": [
    {
     "data": {
      "text/html": [
       "<div>\n",
       "<style scoped>\n",
       "    .dataframe tbody tr th:only-of-type {\n",
       "        vertical-align: middle;\n",
       "    }\n",
       "\n",
       "    .dataframe tbody tr th {\n",
       "        vertical-align: top;\n",
       "    }\n",
       "\n",
       "    .dataframe thead th {\n",
       "        text-align: right;\n",
       "    }\n",
       "</style>\n",
       "<table border=\"1\" class=\"dataframe\">\n",
       "  <thead>\n",
       "    <tr style=\"text-align: right;\">\n",
       "      <th></th>\n",
       "      <th>Time</th>\n",
       "      <th>V1</th>\n",
       "      <th>V2</th>\n",
       "      <th>V3</th>\n",
       "      <th>V4</th>\n",
       "      <th>V5</th>\n",
       "      <th>V6</th>\n",
       "      <th>V7</th>\n",
       "      <th>V8</th>\n",
       "      <th>V9</th>\n",
       "      <th>...</th>\n",
       "      <th>V21</th>\n",
       "      <th>V22</th>\n",
       "      <th>V23</th>\n",
       "      <th>V24</th>\n",
       "      <th>V25</th>\n",
       "      <th>V26</th>\n",
       "      <th>V27</th>\n",
       "      <th>V28</th>\n",
       "      <th>Amount</th>\n",
       "      <th>Class</th>\n",
       "    </tr>\n",
       "  </thead>\n",
       "  <tbody>\n",
       "    <tr>\n",
       "      <th>0</th>\n",
       "      <td>0.0</td>\n",
       "      <td>-1.359807</td>\n",
       "      <td>-0.072781</td>\n",
       "      <td>2.536347</td>\n",
       "      <td>1.378155</td>\n",
       "      <td>-0.338321</td>\n",
       "      <td>0.462388</td>\n",
       "      <td>0.239599</td>\n",
       "      <td>0.098698</td>\n",
       "      <td>0.363787</td>\n",
       "      <td>...</td>\n",
       "      <td>-0.018307</td>\n",
       "      <td>0.277838</td>\n",
       "      <td>-0.110474</td>\n",
       "      <td>0.066928</td>\n",
       "      <td>0.128539</td>\n",
       "      <td>-0.189115</td>\n",
       "      <td>0.133558</td>\n",
       "      <td>-0.021053</td>\n",
       "      <td>149.62</td>\n",
       "      <td>0</td>\n",
       "    </tr>\n",
       "    <tr>\n",
       "      <th>1</th>\n",
       "      <td>0.0</td>\n",
       "      <td>1.191857</td>\n",
       "      <td>0.266151</td>\n",
       "      <td>0.166480</td>\n",
       "      <td>0.448154</td>\n",
       "      <td>0.060018</td>\n",
       "      <td>-0.082361</td>\n",
       "      <td>-0.078803</td>\n",
       "      <td>0.085102</td>\n",
       "      <td>-0.255425</td>\n",
       "      <td>...</td>\n",
       "      <td>-0.225775</td>\n",
       "      <td>-0.638672</td>\n",
       "      <td>0.101288</td>\n",
       "      <td>-0.339846</td>\n",
       "      <td>0.167170</td>\n",
       "      <td>0.125895</td>\n",
       "      <td>-0.008983</td>\n",
       "      <td>0.014724</td>\n",
       "      <td>2.69</td>\n",
       "      <td>0</td>\n",
       "    </tr>\n",
       "    <tr>\n",
       "      <th>2</th>\n",
       "      <td>1.0</td>\n",
       "      <td>-1.358354</td>\n",
       "      <td>-1.340163</td>\n",
       "      <td>1.773209</td>\n",
       "      <td>0.379780</td>\n",
       "      <td>-0.503198</td>\n",
       "      <td>1.800499</td>\n",
       "      <td>0.791461</td>\n",
       "      <td>0.247676</td>\n",
       "      <td>-1.514654</td>\n",
       "      <td>...</td>\n",
       "      <td>0.247998</td>\n",
       "      <td>0.771679</td>\n",
       "      <td>0.909412</td>\n",
       "      <td>-0.689281</td>\n",
       "      <td>-0.327642</td>\n",
       "      <td>-0.139097</td>\n",
       "      <td>-0.055353</td>\n",
       "      <td>-0.059752</td>\n",
       "      <td>378.66</td>\n",
       "      <td>0</td>\n",
       "    </tr>\n",
       "    <tr>\n",
       "      <th>3</th>\n",
       "      <td>1.0</td>\n",
       "      <td>-0.966272</td>\n",
       "      <td>-0.185226</td>\n",
       "      <td>1.792993</td>\n",
       "      <td>-0.863291</td>\n",
       "      <td>-0.010309</td>\n",
       "      <td>1.247203</td>\n",
       "      <td>0.237609</td>\n",
       "      <td>0.377436</td>\n",
       "      <td>-1.387024</td>\n",
       "      <td>...</td>\n",
       "      <td>-0.108300</td>\n",
       "      <td>0.005274</td>\n",
       "      <td>-0.190321</td>\n",
       "      <td>-1.175575</td>\n",
       "      <td>0.647376</td>\n",
       "      <td>-0.221929</td>\n",
       "      <td>0.062723</td>\n",
       "      <td>0.061458</td>\n",
       "      <td>123.50</td>\n",
       "      <td>0</td>\n",
       "    </tr>\n",
       "    <tr>\n",
       "      <th>4</th>\n",
       "      <td>2.0</td>\n",
       "      <td>-1.158233</td>\n",
       "      <td>0.877737</td>\n",
       "      <td>1.548718</td>\n",
       "      <td>0.403034</td>\n",
       "      <td>-0.407193</td>\n",
       "      <td>0.095921</td>\n",
       "      <td>0.592941</td>\n",
       "      <td>-0.270533</td>\n",
       "      <td>0.817739</td>\n",
       "      <td>...</td>\n",
       "      <td>-0.009431</td>\n",
       "      <td>0.798278</td>\n",
       "      <td>-0.137458</td>\n",
       "      <td>0.141267</td>\n",
       "      <td>-0.206010</td>\n",
       "      <td>0.502292</td>\n",
       "      <td>0.219422</td>\n",
       "      <td>0.215153</td>\n",
       "      <td>69.99</td>\n",
       "      <td>0</td>\n",
       "    </tr>\n",
       "  </tbody>\n",
       "</table>\n",
       "<p>5 rows × 31 columns</p>\n",
       "</div>"
      ],
      "text/plain": [
       "   Time        V1        V2        V3        V4        V5        V6        V7  \\\n",
       "0   0.0 -1.359807 -0.072781  2.536347  1.378155 -0.338321  0.462388  0.239599   \n",
       "1   0.0  1.191857  0.266151  0.166480  0.448154  0.060018 -0.082361 -0.078803   \n",
       "2   1.0 -1.358354 -1.340163  1.773209  0.379780 -0.503198  1.800499  0.791461   \n",
       "3   1.0 -0.966272 -0.185226  1.792993 -0.863291 -0.010309  1.247203  0.237609   \n",
       "4   2.0 -1.158233  0.877737  1.548718  0.403034 -0.407193  0.095921  0.592941   \n",
       "\n",
       "         V8        V9  ...       V21       V22       V23       V24       V25  \\\n",
       "0  0.098698  0.363787  ... -0.018307  0.277838 -0.110474  0.066928  0.128539   \n",
       "1  0.085102 -0.255425  ... -0.225775 -0.638672  0.101288 -0.339846  0.167170   \n",
       "2  0.247676 -1.514654  ...  0.247998  0.771679  0.909412 -0.689281 -0.327642   \n",
       "3  0.377436 -1.387024  ... -0.108300  0.005274 -0.190321 -1.175575  0.647376   \n",
       "4 -0.270533  0.817739  ... -0.009431  0.798278 -0.137458  0.141267 -0.206010   \n",
       "\n",
       "        V26       V27       V28  Amount  Class  \n",
       "0 -0.189115  0.133558 -0.021053  149.62      0  \n",
       "1  0.125895 -0.008983  0.014724    2.69      0  \n",
       "2 -0.139097 -0.055353 -0.059752  378.66      0  \n",
       "3 -0.221929  0.062723  0.061458  123.50      0  \n",
       "4  0.502292  0.219422  0.215153   69.99      0  \n",
       "\n",
       "[5 rows x 31 columns]"
      ]
     },
     "execution_count": 3,
     "metadata": {},
     "output_type": "execute_result"
    }
   ],
   "source": [
    "cc.head()"
   ]
  },
  {
   "cell_type": "markdown",
   "metadata": {},
   "source": [
    "### Define some functions to run the model and print resulting stats"
   ]
  },
  {
   "cell_type": "code",
   "execution_count": 30,
   "metadata": {},
   "outputs": [],
   "source": [
    "def run_model(model, X_train, X_test, y_train, y_test, silent=False, verbosity=True):\n",
    "    if silent:\n",
    "        model.fit(X_train, y_train, silent=True)\n",
    "    elif not verbosity:\n",
    "        model.fit(X_train, y_train, verbosity=False)\n",
    "    else:\n",
    "        model.fit(X_train, y_train)\n",
    "    pred = model.predict(X_test)\n",
    "    c_matrix = confusion_matrix(y_test, pred)\n",
    "    return c_matrix, pred"
   ]
  },
  {
   "cell_type": "code",
   "execution_count": 55,
   "metadata": {},
   "outputs": [],
   "source": [
    "def PrintStats(cmat, y_test, pred):\n",
    "    # separate out the confusion matrix components\n",
    "    tpos = cmat[0][0]\n",
    "    fneg = cmat[1][1]\n",
    "    fpos = cmat[0][1]\n",
    "    tneg = cmat[1][0]\n",
    "    # calculate F!, Recall scores\n",
    "    f1Score = round(f1_score(y_test, pred), 2)\n",
    "    recallScore = round(recall_score(y_test, pred), 2)\n",
    "    # calculate and display metrics\n",
    "    print(cmat)\n",
    "    print( 'Accuracy: '+ str(np.round(100*float(tpos+fneg)/float(tpos+fneg + fpos + tneg),2))+'%')\n",
    "    print(f'Percent of False Positives: {round(fpos/len(y_test)*100, 2)}%')\n",
    "    print(f'Percent of False Negatives: {round(tneg/len(y_test)*100, 2)}%')\n",
    "    print( 'Cohen Kappa: '+ str(np.round(cohen_kappa_score(y_test, pred),3)))\n",
    "    print(\"Sensitivity/Recall for Model : {recall_score}\".format(recall_score = recallScore))\n",
    "    print(\"F1 Score for Model : {f1_score}\".format(f1_score = f1Score))"
   ]
  },
  {
   "cell_type": "markdown",
   "metadata": {},
   "source": [
    "### Get a full and undersampled size train/test set"
   ]
  },
  {
   "cell_type": "code",
   "execution_count": 39,
   "metadata": {},
   "outputs": [],
   "source": [
    "feature_names = cc.iloc[:, 1:30].columns\n",
    "target = cc.iloc[:1, 30:].columns\n",
    "data_features = cc[feature_names]\n",
    "data_target = cc[target]\n",
    "data_sets = train_test_split(data_features, \n",
    "                             data_target, \n",
    "                             train_size=.7, \n",
    "                             test_size=.3, \n",
    "                             random_state=1)\n",
    "X_train, X_test, y_train, y_test = data_sets"
   ]
  },
  {
   "cell_type": "code",
   "execution_count": 40,
   "metadata": {},
   "outputs": [],
   "source": [
    "fraud_idx = cc[cc.Class==1].index\n",
    "normal_idx = cc[cc.Class==0].index\n",
    "num_fraud = len(cc[cc.Class == 1])\n",
    "under_sample_idx = np.random.choice(normal_idx, num_fraud, replace=False)\n",
    "cc_under_sample = cc.iloc[np.concatenate([fraud_idx,under_sample_idx]), :]\n",
    "X_under_sample = cc_under_sample.iloc[:, 1:30]\n",
    "y_under_sample = cc_under_sample.Class\n",
    "X_us_train, X_us_test, y_us_train, y_us_test = train_test_split(X_under_sample, y_under_sample, train_size=.7, test_size=.3)"
   ]
  },
  {
   "cell_type": "markdown",
   "metadata": {},
   "source": [
    "### Define the models"
   ]
  },
  {
   "cell_type": "code",
   "execution_count": 26,
   "metadata": {},
   "outputs": [],
   "source": [
    "lr = LogisticRegression()\n",
    "rf = RandomForestClassifier()\n",
    "xgboost = xgb.XGBClassifier()\n",
    "cb = CatBoostClassifier()"
   ]
  },
  {
   "cell_type": "markdown",
   "metadata": {},
   "source": [
    "### Run models with full sampled data sets"
   ]
  },
  {
   "cell_type": "code",
   "execution_count": 22,
   "metadata": {},
   "outputs": [
    {
     "name": "stdout",
     "output_type": "stream",
     "text": [
      "[[85293    15]\n",
      " [   57    78]]\n",
      "Accuracy: 99.92%\n",
      "Cohen Kappa: 0.684\n",
      "Sensitivity/Recall for Model : 0.58\n",
      "F1 Score for Model : 0.68\n"
     ]
    }
   ],
   "source": [
    "lr_c_matrix, lr_pred = run_model(lr, X_train, X_test, y_train, y_test)\n",
    "PrintStats(lr_c_matrix, y_test, lr_pred)"
   ]
  },
  {
   "cell_type": "code",
   "execution_count": 23,
   "metadata": {},
   "outputs": [
    {
     "name": "stdout",
     "output_type": "stream",
     "text": [
      "[[85301     7]\n",
      " [   36    99]]\n",
      "Accuracy: 99.95%\n",
      "Cohen Kappa: 0.821\n",
      "Sensitivity/Recall for Model : 0.73\n",
      "F1 Score for Model : 0.82\n"
     ]
    }
   ],
   "source": [
    "rf_cmat, rf_pred = run_model(rf, X_train, X_test, y_train, y_test)\n",
    "PrintStats(rf_cmat, y_test, rf_pred)"
   ]
  },
  {
   "cell_type": "code",
   "execution_count": 31,
   "metadata": {},
   "outputs": [
    {
     "name": "stdout",
     "output_type": "stream",
     "text": [
      "[[85297    11]\n",
      " [   34   101]]\n",
      "Accuracy: 99.95%\n",
      "Cohen Kappa: 0.818\n",
      "Sensitivity/Recall for Model : 0.75\n",
      "F1 Score for Model : 0.82\n"
     ]
    }
   ],
   "source": [
    "xgb_cmat, xgb_pred = run_model(xgboost, X_train, X_test, y_train, y_test, verbosity=True)\n",
    "PrintStats(xgb_cmat, y_test, xgb_pred)"
   ]
  },
  {
   "cell_type": "code",
   "execution_count": 34,
   "metadata": {},
   "outputs": [
    {
     "name": "stdout",
     "output_type": "stream",
     "text": [
      "[[85303     5]\n",
      " [   31   104]]\n",
      "Accuracy: 99.96%\n",
      "Cohen Kappa: 0.852\n",
      "Sensitivity/Recall for Model : 0.77\n",
      "F1 Score for Model : 0.85\n"
     ]
    }
   ],
   "source": [
    "cb_cmat, cb_pred = run_model(cb, X_train, X_test, y_train, y_test, silent=True)\n",
    "PrintStats(cb_cmat, y_test, cb_pred)"
   ]
  },
  {
   "cell_type": "markdown",
   "metadata": {},
   "source": [
    "### Run models with full undersampled data sets"
   ]
  },
  {
   "cell_type": "code",
   "execution_count": 35,
   "metadata": {},
   "outputs": [
    {
     "name": "stdout",
     "output_type": "stream",
     "text": [
      "[[82613  2695]\n",
      " [   10   125]]\n",
      "Accuracy: 96.83%\n",
      "Cohen Kappa: 0.082\n",
      "Sensitivity/Recall for Model : 0.93\n",
      "F1 Score for Model : 0.08\n"
     ]
    }
   ],
   "source": [
    "lr_us_cmat, lr_us_pred = run_model(lr, X_us_train, X_test, y_us_train, y_test)\n",
    "PrintStats(lr_us_cmat, y_test, lr_us_pred)"
   ]
  },
  {
   "cell_type": "code",
   "execution_count": 36,
   "metadata": {},
   "outputs": [
    {
     "name": "stdout",
     "output_type": "stream",
     "text": [
      "[[84009  1299]\n",
      " [   10   125]]\n",
      "Accuracy: 98.47%\n",
      "Cohen Kappa: 0.158\n",
      "Sensitivity/Recall for Model : 0.93\n",
      "F1 Score for Model : 0.16\n"
     ]
    }
   ],
   "source": [
    "rf_us_cmat, rf_us_pred = run_model(rf, X_us_train, X_test, y_us_train, y_test)\n",
    "PrintStats(rf_us_cmat, y_test, rf_us_pred)"
   ]
  },
  {
   "cell_type": "code",
   "execution_count": 41,
   "metadata": {},
   "outputs": [
    {
     "name": "stdout",
     "output_type": "stream",
     "text": [
      "[[81762  3546]\n",
      " [    2   133]]\n",
      "Accuracy: 95.85%\n",
      "Cohen Kappa: 0.067\n",
      "Sensitivity/Recall for Model : 0.99\n",
      "F1 Score for Model : 0.07\n"
     ]
    }
   ],
   "source": [
    "xgb_us_cmat, xgb_us_pred = run_model(xgboost, X_us_train, X_test, y_us_train, y_test, verbosity=True)\n",
    "PrintStats(xgb_us_cmat, y_test, xgb_us_pred)"
   ]
  },
  {
   "cell_type": "code",
   "execution_count": 42,
   "metadata": {},
   "outputs": [
    {
     "name": "stdout",
     "output_type": "stream",
     "text": [
      "[[82821  2487]\n",
      " [    2   133]]\n",
      "Accuracy: 97.09%\n",
      "Cohen Kappa: 0.094\n",
      "Sensitivity/Recall for Model : 0.99\n",
      "F1 Score for Model : 0.1\n"
     ]
    }
   ],
   "source": [
    "cb_us_cmat, cb_us_pred = run_model(cb, X_us_train, X_test, y_us_train, y_test, silent=True)\n",
    "PrintStats(cb_us_cmat, y_test, cb_us_pred)"
   ]
  },
  {
   "cell_type": "markdown",
   "metadata": {},
   "source": [
    "### Print out summary statistics for all of the models"
   ]
  },
  {
   "cell_type": "code",
   "execution_count": 57,
   "metadata": {},
   "outputs": [
    {
     "name": "stdout",
     "output_type": "stream",
     "text": [
      "------------------------------------------------------------------------------\n",
      "logistic regression\n",
      "[[85293    15]\n",
      " [   57    78]]\n",
      "Accuracy: 99.92%\n",
      "Percent of False Positives: 0.02%\n",
      "Percent of False Negatives: 0.07%\n",
      "Cohen Kappa: 0.684\n",
      "Sensitivity/Recall for Model : 0.58\n",
      "F1 Score for Model : 0.68\n",
      "------------------------------------------------------------------------------\n",
      "random forrests\n",
      "[[85301     7]\n",
      " [   36    99]]\n",
      "Accuracy: 99.95%\n",
      "Percent of False Positives: 0.01%\n",
      "Percent of False Negatives: 0.04%\n",
      "Cohen Kappa: 0.821\n",
      "Sensitivity/Recall for Model : 0.73\n",
      "F1 Score for Model : 0.82\n",
      "------------------------------------------------------------------------------\n",
      "xgboost\n",
      "[[85297    11]\n",
      " [   34   101]]\n",
      "Accuracy: 99.95%\n",
      "Percent of False Positives: 0.01%\n",
      "Percent of False Negatives: 0.04%\n",
      "Cohen Kappa: 0.818\n",
      "Sensitivity/Recall for Model : 0.75\n",
      "F1 Score for Model : 0.82\n",
      "------------------------------------------------------------------------------\n",
      "catboost\n",
      "[[85303     5]\n",
      " [   31   104]]\n",
      "Accuracy: 99.96%\n",
      "Percent of False Positives: 0.01%\n",
      "Percent of False Negatives: 0.04%\n",
      "Cohen Kappa: 0.852\n",
      "Sensitivity/Recall for Model : 0.77\n",
      "F1 Score for Model : 0.85\n",
      "------------------------------------------------------------------------------\n",
      "logistic regression undersampled\n",
      "[[82613  2695]\n",
      " [   10   125]]\n",
      "Accuracy: 96.83%\n",
      "Percent of False Positives: 3.15%\n",
      "Percent of False Negatives: 0.01%\n",
      "Cohen Kappa: 0.082\n",
      "Sensitivity/Recall for Model : 0.93\n",
      "F1 Score for Model : 0.08\n",
      "------------------------------------------------------------------------------\n",
      "random forrests under sampled\n",
      "[[84009  1299]\n",
      " [   10   125]]\n",
      "Accuracy: 98.47%\n",
      "Percent of False Positives: 1.52%\n",
      "Percent of False Negatives: 0.01%\n",
      "Cohen Kappa: 0.158\n",
      "Sensitivity/Recall for Model : 0.93\n",
      "F1 Score for Model : 0.16\n",
      "------------------------------------------------------------------------------\n",
      "xgboost undersampled\n",
      "[[81762  3546]\n",
      " [    2   133]]\n",
      "Accuracy: 95.85%\n",
      "Percent of False Positives: 4.15%\n",
      "Percent of False Negatives: 0.0%\n",
      "Cohen Kappa: 0.067\n",
      "Sensitivity/Recall for Model : 0.99\n",
      "F1 Score for Model : 0.07\n",
      "------------------------------------------------------------------------------\n",
      "catboost undersampled\n",
      "[[82821  2487]\n",
      " [    2   133]]\n",
      "Accuracy: 97.09%\n",
      "Percent of False Positives: 2.91%\n",
      "Percent of False Negatives: 0.0%\n",
      "Cohen Kappa: 0.094\n",
      "Sensitivity/Recall for Model : 0.99\n",
      "F1 Score for Model : 0.1\n",
      "------------------------------------------------------------------------------\n"
     ]
    }
   ],
   "source": [
    "print('------------------------------------------------------------------------------')\n",
    "print('logistic regression')\n",
    "PrintStats(lr_c_matrix, y_test, lr_pred)\n",
    "print('------------------------------------------------------------------------------')\n",
    "print('random forrests')\n",
    "PrintStats(rf_cmat, y_test, rf_pred)\n",
    "print('------------------------------------------------------------------------------')\n",
    "print('xgboost')\n",
    "PrintStats(xgb_cmat, y_test, xgb_pred)\n",
    "print('------------------------------------------------------------------------------')\n",
    "print('catboost')\n",
    "PrintStats(cb_cmat, y_test, cb_pred)\n",
    "print('------------------------------------------------------------------------------')\n",
    "print('logistic regression undersampled')\n",
    "PrintStats(lr_us_cmat, y_test, lr_us_pred)\n",
    "print('------------------------------------------------------------------------------')\n",
    "print('random forrests under sampled')\n",
    "PrintStats(rf_us_cmat, y_test, rf_us_pred)\n",
    "print('------------------------------------------------------------------------------')\n",
    "print('xgboost undersampled')\n",
    "PrintStats(xgb_us_cmat, y_test, xgb_us_pred)\n",
    "print('------------------------------------------------------------------------------')\n",
    "print('catboost undersampled')\n",
    "PrintStats(cb_us_cmat, y_test, cb_us_pred)\n",
    "print('------------------------------------------------------------------------------')\n"
   ]
  },
  {
   "cell_type": "code",
   "execution_count": null,
   "metadata": {},
   "outputs": [],
   "source": []
  }
 ],
 "metadata": {
  "kernelspec": {
   "display_name": "Python 3",
   "language": "python",
   "name": "python3"
  },
  "language_info": {
   "codemirror_mode": {
    "name": "ipython",
    "version": 3
   },
   "file_extension": ".py",
   "mimetype": "text/x-python",
   "name": "python",
   "nbconvert_exporter": "python",
   "pygments_lexer": "ipython3",
   "version": "3.7.3"
  }
 },
 "nbformat": 4,
 "nbformat_minor": 2
}
